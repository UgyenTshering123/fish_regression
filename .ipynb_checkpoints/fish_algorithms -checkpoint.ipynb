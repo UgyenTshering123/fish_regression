{
 "cells": [
  {
   "cell_type": "markdown",
   "id": "b61b495d-4aea-4b35-9a4c-ef845688a49e",
   "metadata": {},
   "source": [
    "# Import Library"
   ]
  },
  {
   "cell_type": "code",
   "execution_count": 28,
   "id": "6cb08f6d-43a9-4735-9ea8-dc7d2a6837ea",
   "metadata": {},
   "outputs": [],
   "source": [
    "import warnings\n",
    "warnings.filterwarnings(\"ignore\")\n",
    "import pandas as pd"
   ]
  },
  {
   "cell_type": "markdown",
   "id": "eb402569-8b3e-4576-9f03-f462ba7299d2",
   "metadata": {},
   "source": [
    "# Read File "
   ]
  },
  {
   "cell_type": "code",
   "execution_count": 68,
   "id": "2ca56199-42f4-4a09-ac66-b15b73c7e197",
   "metadata": {},
   "outputs": [],
   "source": [
    "df = pd.read_csv(\"d://Machine Learning/Regression Analysis-20231127T061222Z-001/Regression Analysis/fish/Fish_dataset.csv\")"
   ]
  },
  {
   "cell_type": "markdown",
   "id": "8a5c1b43-7504-4d02-b6ed-688d20b9b906",
   "metadata": {},
   "source": [
    "# Desc & Handling "
   ]
  },
  {
   "cell_type": "code",
   "execution_count": 30,
   "id": "19c60b50-2fb2-4a24-8782-5f3f4c72555b",
   "metadata": {},
   "outputs": [
    {
     "data": {
      "text/html": [
       "<div>\n",
       "<style scoped>\n",
       "    .dataframe tbody tr th:only-of-type {\n",
       "        vertical-align: middle;\n",
       "    }\n",
       "\n",
       "    .dataframe tbody tr th {\n",
       "        vertical-align: top;\n",
       "    }\n",
       "\n",
       "    .dataframe thead th {\n",
       "        text-align: right;\n",
       "    }\n",
       "</style>\n",
       "<table border=\"1\" class=\"dataframe\">\n",
       "  <thead>\n",
       "    <tr style=\"text-align: right;\">\n",
       "      <th></th>\n",
       "      <th>Species</th>\n",
       "      <th>Weight</th>\n",
       "      <th>Length1</th>\n",
       "      <th>Length2</th>\n",
       "      <th>Length3</th>\n",
       "      <th>Height</th>\n",
       "      <th>Width</th>\n",
       "    </tr>\n",
       "  </thead>\n",
       "  <tbody>\n",
       "    <tr>\n",
       "      <th>0</th>\n",
       "      <td>Bream</td>\n",
       "      <td>242.0</td>\n",
       "      <td>23.2</td>\n",
       "      <td>25.4</td>\n",
       "      <td>30.0</td>\n",
       "      <td>11.5200</td>\n",
       "      <td>4.0200</td>\n",
       "    </tr>\n",
       "    <tr>\n",
       "      <th>1</th>\n",
       "      <td>Bream</td>\n",
       "      <td>290.0</td>\n",
       "      <td>24.0</td>\n",
       "      <td>26.3</td>\n",
       "      <td>31.2</td>\n",
       "      <td>12.4800</td>\n",
       "      <td>4.3056</td>\n",
       "    </tr>\n",
       "    <tr>\n",
       "      <th>2</th>\n",
       "      <td>Bream</td>\n",
       "      <td>340.0</td>\n",
       "      <td>23.9</td>\n",
       "      <td>26.5</td>\n",
       "      <td>31.1</td>\n",
       "      <td>12.3778</td>\n",
       "      <td>4.6961</td>\n",
       "    </tr>\n",
       "    <tr>\n",
       "      <th>3</th>\n",
       "      <td>Bream</td>\n",
       "      <td>363.0</td>\n",
       "      <td>26.3</td>\n",
       "      <td>29.0</td>\n",
       "      <td>33.5</td>\n",
       "      <td>12.7300</td>\n",
       "      <td>4.4555</td>\n",
       "    </tr>\n",
       "    <tr>\n",
       "      <th>4</th>\n",
       "      <td>Bream</td>\n",
       "      <td>430.0</td>\n",
       "      <td>26.5</td>\n",
       "      <td>29.0</td>\n",
       "      <td>34.0</td>\n",
       "      <td>12.4440</td>\n",
       "      <td>5.1340</td>\n",
       "    </tr>\n",
       "  </tbody>\n",
       "</table>\n",
       "</div>"
      ],
      "text/plain": [
       "  Species  Weight  Length1  Length2  Length3   Height   Width\n",
       "0   Bream   242.0     23.2     25.4     30.0  11.5200  4.0200\n",
       "1   Bream   290.0     24.0     26.3     31.2  12.4800  4.3056\n",
       "2   Bream   340.0     23.9     26.5     31.1  12.3778  4.6961\n",
       "3   Bream   363.0     26.3     29.0     33.5  12.7300  4.4555\n",
       "4   Bream   430.0     26.5     29.0     34.0  12.4440  5.1340"
      ]
     },
     "execution_count": 30,
     "metadata": {},
     "output_type": "execute_result"
    }
   ],
   "source": [
    "df.head()"
   ]
  },
  {
   "cell_type": "code",
   "execution_count": 31,
   "id": "77b30424-f3b0-49f5-b3f4-34b483ef4ea8",
   "metadata": {},
   "outputs": [
    {
     "data": {
      "text/html": [
       "<div>\n",
       "<style scoped>\n",
       "    .dataframe tbody tr th:only-of-type {\n",
       "        vertical-align: middle;\n",
       "    }\n",
       "\n",
       "    .dataframe tbody tr th {\n",
       "        vertical-align: top;\n",
       "    }\n",
       "\n",
       "    .dataframe thead th {\n",
       "        text-align: right;\n",
       "    }\n",
       "</style>\n",
       "<table border=\"1\" class=\"dataframe\">\n",
       "  <thead>\n",
       "    <tr style=\"text-align: right;\">\n",
       "      <th></th>\n",
       "      <th>Species</th>\n",
       "      <th>Weight</th>\n",
       "      <th>Length1</th>\n",
       "      <th>Length2</th>\n",
       "      <th>Length3</th>\n",
       "      <th>Height</th>\n",
       "      <th>Width</th>\n",
       "    </tr>\n",
       "  </thead>\n",
       "  <tbody>\n",
       "    <tr>\n",
       "      <th>154</th>\n",
       "      <td>Smelt</td>\n",
       "      <td>12.2</td>\n",
       "      <td>11.5</td>\n",
       "      <td>12.2</td>\n",
       "      <td>13.4</td>\n",
       "      <td>2.0904</td>\n",
       "      <td>1.3936</td>\n",
       "    </tr>\n",
       "    <tr>\n",
       "      <th>155</th>\n",
       "      <td>Smelt</td>\n",
       "      <td>13.4</td>\n",
       "      <td>11.7</td>\n",
       "      <td>12.4</td>\n",
       "      <td>13.5</td>\n",
       "      <td>2.4300</td>\n",
       "      <td>1.2690</td>\n",
       "    </tr>\n",
       "    <tr>\n",
       "      <th>156</th>\n",
       "      <td>Smelt</td>\n",
       "      <td>12.2</td>\n",
       "      <td>12.1</td>\n",
       "      <td>13.0</td>\n",
       "      <td>13.8</td>\n",
       "      <td>2.2770</td>\n",
       "      <td>1.2558</td>\n",
       "    </tr>\n",
       "    <tr>\n",
       "      <th>157</th>\n",
       "      <td>Smelt</td>\n",
       "      <td>19.7</td>\n",
       "      <td>13.2</td>\n",
       "      <td>14.3</td>\n",
       "      <td>15.2</td>\n",
       "      <td>2.8728</td>\n",
       "      <td>2.0672</td>\n",
       "    </tr>\n",
       "    <tr>\n",
       "      <th>158</th>\n",
       "      <td>Smelt</td>\n",
       "      <td>19.9</td>\n",
       "      <td>13.8</td>\n",
       "      <td>15.0</td>\n",
       "      <td>16.2</td>\n",
       "      <td>2.9322</td>\n",
       "      <td>1.8792</td>\n",
       "    </tr>\n",
       "  </tbody>\n",
       "</table>\n",
       "</div>"
      ],
      "text/plain": [
       "    Species  Weight  Length1  Length2  Length3  Height   Width\n",
       "154   Smelt    12.2     11.5     12.2     13.4  2.0904  1.3936\n",
       "155   Smelt    13.4     11.7     12.4     13.5  2.4300  1.2690\n",
       "156   Smelt    12.2     12.1     13.0     13.8  2.2770  1.2558\n",
       "157   Smelt    19.7     13.2     14.3     15.2  2.8728  2.0672\n",
       "158   Smelt    19.9     13.8     15.0     16.2  2.9322  1.8792"
      ]
     },
     "execution_count": 31,
     "metadata": {},
     "output_type": "execute_result"
    }
   ],
   "source": [
    "df.tail()"
   ]
  },
  {
   "cell_type": "code",
   "execution_count": 32,
   "id": "6bf93062-76f8-498f-b216-23dbdcc2f838",
   "metadata": {},
   "outputs": [
    {
     "name": "stdout",
     "output_type": "stream",
     "text": [
      "<class 'pandas.core.frame.DataFrame'>\n",
      "RangeIndex: 159 entries, 0 to 158\n",
      "Data columns (total 7 columns):\n",
      " #   Column   Non-Null Count  Dtype  \n",
      "---  ------   --------------  -----  \n",
      " 0   Species  159 non-null    object \n",
      " 1   Weight   159 non-null    float64\n",
      " 2   Length1  159 non-null    float64\n",
      " 3   Length2  159 non-null    float64\n",
      " 4   Length3  159 non-null    float64\n",
      " 5   Height   159 non-null    float64\n",
      " 6   Width    159 non-null    float64\n",
      "dtypes: float64(6), object(1)\n",
      "memory usage: 8.8+ KB\n"
     ]
    }
   ],
   "source": [
    "df.info()"
   ]
  },
  {
   "cell_type": "code",
   "execution_count": 33,
   "id": "dc4e7f2c-0ea5-49dc-9e20-336708f20e1e",
   "metadata": {},
   "outputs": [
    {
     "data": {
      "text/plain": [
       "(159, 7)"
      ]
     },
     "execution_count": 33,
     "metadata": {},
     "output_type": "execute_result"
    }
   ],
   "source": [
    "df.shape"
   ]
  },
  {
   "cell_type": "code",
   "execution_count": 34,
   "id": "08e8e560-d8bd-4970-b0b2-a4e16d6411f0",
   "metadata": {},
   "outputs": [
    {
     "data": {
      "text/plain": [
       "1113"
      ]
     },
     "execution_count": 34,
     "metadata": {},
     "output_type": "execute_result"
    }
   ],
   "source": [
    "df.size"
   ]
  },
  {
   "cell_type": "markdown",
   "id": "5afd5dd9-31c9-4977-bbf2-7cc5e9d77fdd",
   "metadata": {},
   "source": [
    "# Missing values"
   ]
  },
  {
   "cell_type": "code",
   "execution_count": 35,
   "id": "98484ca7-28a1-4a0f-8e47-c318ec5830fe",
   "metadata": {},
   "outputs": [
    {
     "data": {
      "text/plain": [
       "Species    0\n",
       "Weight     0\n",
       "Length1    0\n",
       "Length2    0\n",
       "Length3    0\n",
       "Height     0\n",
       "Width      0\n",
       "dtype: int64"
      ]
     },
     "execution_count": 35,
     "metadata": {},
     "output_type": "execute_result"
    }
   ],
   "source": [
    "df.isnull().sum()"
   ]
  },
  {
   "cell_type": "code",
   "execution_count": 36,
   "id": "26737587-5457-4208-9343-380739b98602",
   "metadata": {},
   "outputs": [
    {
     "data": {
      "text/plain": [
       "0"
      ]
     },
     "execution_count": 36,
     "metadata": {},
     "output_type": "execute_result"
    }
   ],
   "source": [
    "df.duplicated().sum()"
   ]
  },
  {
   "cell_type": "markdown",
   "id": "ce943ce9-0f09-4061-ab94-d2786986cb0e",
   "metadata": {},
   "source": [
    "# Outlier "
   ]
  },
  {
   "cell_type": "code",
   "execution_count": null,
   "id": "83d40e82-8c7f-4d04-b071-d3e5770baabe",
   "metadata": {},
   "outputs": [],
   "source": [
    "# Q2. Identify outliers and remove if any?"
   ]
  },
  {
   "cell_type": "code",
   "execution_count": 37,
   "id": "a03bf4ef-ebc5-42ae-8889-5b2b6591378d",
   "metadata": {},
   "outputs": [],
   "source": [
    "import seaborn as sns"
   ]
  },
  {
   "cell_type": "code",
   "execution_count": 38,
   "id": "7b96f195-e380-4f3c-93ab-f47ed5edb74f",
   "metadata": {},
   "outputs": [
    {
     "data": {
      "text/plain": [
       "<Axes: >"
      ]
     },
     "execution_count": 38,
     "metadata": {},
     "output_type": "execute_result"
    },
    {
     "data": {
      "image/png": "[encoded data removed]",
      "text/plain": [
       "<Figure size 640x480 with 1 Axes>"
      ]
     },
     "metadata": {},
     "output_type": "display_data"
    }
   ],
   "source": [
    "sns.boxplot(df)"
   ]
  },
  {
   "cell_type": "code",
   "execution_count": 69,
   "id": "e5ec2bdb-c7a9-4985-a7bb-09608381a6e1",
   "metadata": {},
   "outputs": [],
   "source": [
    "for x in df.columns[::]:\n",
    "    if df[x].dtype==object:\n",
    "        continue\n",
    "    else:\n",
    "        q1=df[x].quantile(q=0.25)\n",
    "        q3=df[x].quantile(q=0.75)\n",
    "        IQR= q3-q1\n",
    "        \n",
    "        low=q1-1.5*IQR\n",
    "        high=q3+1.5*IQR\n",
    "        df.loc[(df[x]<low)| (df[x]>high),x]=df[x].median()"
   ]
  },
  {
   "cell_type": "code",
   "execution_count": 40,
   "id": "b27e8b9f-c09f-485d-ba6c-7aea11d2abe2",
   "metadata": {},
   "outputs": [
    {
     "data": {
      "text/plain": [
       "<Axes: >"
      ]
     },
     "execution_count": 40,
     "metadata": {},
     "output_type": "execute_result"
    },
    {
     "data": {
      "image/png": "[encoded data removed]",
      "text/plain": [
       "<Figure size 640x480 with 1 Axes>"
      ]
     },
     "metadata": {},
     "output_type": "display_data"
    }
   ],
   "source": [
    "sns.boxplot(df)"
   ]
  },
  {
   "cell_type": "markdown",
   "id": "c75e3eb3-4342-4d81-baa7-e3b8753468e6",
   "metadata": {},
   "source": [
    "# Bar plot"
   ]
  },
  {
   "cell_type": "code",
   "execution_count": 41,
   "id": "70415297-9e59-49f3-a651-3f07edcd5124",
   "metadata": {},
   "outputs": [
    {
     "data": {
      "text/plain": [
       "<Axes: >"
      ]
     },
     "execution_count": 41,
     "metadata": {},
     "output_type": "execute_result"
    },
    {
     "data": {
      "image/png": "[encoded data removed]",
      "text/plain": [
       "<Figure size 640x480 with 1 Axes>"
      ]
     },
     "metadata": {},
     "output_type": "display_data"
    }
   ],
   "source": [
    "sns.barplot(df)"
   ]
  },
  {
   "cell_type": "code",
   "execution_count": 44,
   "id": "be13602f-65ad-4dc9-bbdc-c8a4025609ec",
   "metadata": {},
   "outputs": [],
   "source": [
    "# Q1. Plot a bar chart showing the count of individual species?"
   ]
  },
  {
   "cell_type": "code",
   "execution_count": 70,
   "id": "371e3a19-bca8-4e23-b7c6-0d6fed88448b",
   "metadata": {},
   "outputs": [
    {
     "data": {
      "image/png": "[encoded data removed]",
      "text/plain": [
       "<Figure size 800x600 with 1 Axes>"
      ]
     },
     "metadata": {},
     "output_type": "display_data"
    }
   ],
   "source": [
    "import matplotlib.pyplot as plt\n",
    "import seaborn as sns\n",
    "\n",
    "# Assuming 'species' is the column in your DataFrame\n",
    "sns.set(style=\"whitegrid\")\n",
    "plt.figure(figsize=(8, 6))\n",
    "sns.countplot(x='Species', data=df, palette='viridis')\n",
    "plt.title('Count of Individual Species')\n",
    "plt.xlabel('Species')\n",
    "plt.ylabel('Count')\n",
    "plt.show()\n"
   ]
  },
  {
   "cell_type": "code",
   "execution_count": 86,
   "id": "293f8c28-367d-46f4-ba65-00d899f69043",
   "metadata": {},
   "outputs": [],
   "source": [
    "# Q5. Compare real and predicted weights and give a conclusion statement based on it?"
   ]
  },
  {
   "cell_type": "markdown",
   "id": "6a82da3b-25f5-46e6-a473-e1ddeb60f158",
   "metadata": {},
   "source": [
    "# Standardization"
   ]
  },
  {
   "cell_type": "code",
   "execution_count": 71,
   "id": "475c062a-c880-4c4a-9934-579107f88c8d",
   "metadata": {},
   "outputs": [],
   "source": [
    "x= df['Species']"
   ]
  },
  {
   "cell_type": "code",
   "execution_count": 72,
   "id": "2e7b2843-adff-40af-aeab-50ff3e3c35f1",
   "metadata": {},
   "outputs": [],
   "source": [
    "df1=pd.get_dummies(x)"
   ]
  },
  {
   "cell_type": "code",
   "execution_count": 73,
   "id": "067e4306-42f1-4e82-8606-1ab5dfba8d07",
   "metadata": {},
   "outputs": [],
   "source": [
    "df=pd.concat([df,df1],axis=1)"
   ]
  },
  {
   "cell_type": "code",
   "execution_count": 74,
   "id": "fb98d750-9ef7-43eb-a17a-abced255f894",
   "metadata": {},
   "outputs": [
    {
     "data": {
      "text/html": [
       "<div>\n",
       "<style scoped>\n",
       "    .dataframe tbody tr th:only-of-type {\n",
       "        vertical-align: middle;\n",
       "    }\n",
       "\n",
       "    .dataframe tbody tr th {\n",
       "        vertical-align: top;\n",
       "    }\n",
       "\n",
       "    .dataframe thead th {\n",
       "        text-align: right;\n",
       "    }\n",
       "</style>\n",
       "<table border=\"1\" class=\"dataframe\">\n",
       "  <thead>\n",
       "    <tr style=\"text-align: right;\">\n",
       "      <th></th>\n",
       "      <th>Species</th>\n",
       "      <th>Weight</th>\n",
       "      <th>Length1</th>\n",
       "      <th>Length2</th>\n",
       "      <th>Length3</th>\n",
       "      <th>Height</th>\n",
       "      <th>Width</th>\n",
       "      <th>Bream</th>\n",
       "      <th>Parkki</th>\n",
       "      <th>Perch</th>\n",
       "      <th>Pike</th>\n",
       "      <th>Roach</th>\n",
       "      <th>Smelt</th>\n",
       "      <th>Whitefish</th>\n",
       "    </tr>\n",
       "  </thead>\n",
       "  <tbody>\n",
       "    <tr>\n",
       "      <th>0</th>\n",
       "      <td>Bream</td>\n",
       "      <td>242.0</td>\n",
       "      <td>23.2</td>\n",
       "      <td>25.4</td>\n",
       "      <td>30.0</td>\n",
       "      <td>11.5200</td>\n",
       "      <td>4.0200</td>\n",
       "      <td>True</td>\n",
       "      <td>False</td>\n",
       "      <td>False</td>\n",
       "      <td>False</td>\n",
       "      <td>False</td>\n",
       "      <td>False</td>\n",
       "      <td>False</td>\n",
       "    </tr>\n",
       "    <tr>\n",
       "      <th>1</th>\n",
       "      <td>Bream</td>\n",
       "      <td>290.0</td>\n",
       "      <td>24.0</td>\n",
       "      <td>26.3</td>\n",
       "      <td>31.2</td>\n",
       "      <td>12.4800</td>\n",
       "      <td>4.3056</td>\n",
       "      <td>True</td>\n",
       "      <td>False</td>\n",
       "      <td>False</td>\n",
       "      <td>False</td>\n",
       "      <td>False</td>\n",
       "      <td>False</td>\n",
       "      <td>False</td>\n",
       "    </tr>\n",
       "    <tr>\n",
       "      <th>2</th>\n",
       "      <td>Bream</td>\n",
       "      <td>340.0</td>\n",
       "      <td>23.9</td>\n",
       "      <td>26.5</td>\n",
       "      <td>31.1</td>\n",
       "      <td>12.3778</td>\n",
       "      <td>4.6961</td>\n",
       "      <td>True</td>\n",
       "      <td>False</td>\n",
       "      <td>False</td>\n",
       "      <td>False</td>\n",
       "      <td>False</td>\n",
       "      <td>False</td>\n",
       "      <td>False</td>\n",
       "    </tr>\n",
       "    <tr>\n",
       "      <th>3</th>\n",
       "      <td>Bream</td>\n",
       "      <td>363.0</td>\n",
       "      <td>26.3</td>\n",
       "      <td>29.0</td>\n",
       "      <td>33.5</td>\n",
       "      <td>12.7300</td>\n",
       "      <td>4.4555</td>\n",
       "      <td>True</td>\n",
       "      <td>False</td>\n",
       "      <td>False</td>\n",
       "      <td>False</td>\n",
       "      <td>False</td>\n",
       "      <td>False</td>\n",
       "      <td>False</td>\n",
       "    </tr>\n",
       "    <tr>\n",
       "      <th>4</th>\n",
       "      <td>Bream</td>\n",
       "      <td>430.0</td>\n",
       "      <td>26.5</td>\n",
       "      <td>29.0</td>\n",
       "      <td>34.0</td>\n",
       "      <td>12.4440</td>\n",
       "      <td>5.1340</td>\n",
       "      <td>True</td>\n",
       "      <td>False</td>\n",
       "      <td>False</td>\n",
       "      <td>False</td>\n",
       "      <td>False</td>\n",
       "      <td>False</td>\n",
       "      <td>False</td>\n",
       "    </tr>\n",
       "    <tr>\n",
       "      <th>...</th>\n",
       "      <td>...</td>\n",
       "      <td>...</td>\n",
       "      <td>...</td>\n",
       "      <td>...</td>\n",
       "      <td>...</td>\n",
       "      <td>...</td>\n",
       "      <td>...</td>\n",
       "      <td>...</td>\n",
       "      <td>...</td>\n",
       "      <td>...</td>\n",
       "      <td>...</td>\n",
       "      <td>...</td>\n",
       "      <td>...</td>\n",
       "      <td>...</td>\n",
       "    </tr>\n",
       "    <tr>\n",
       "      <th>154</th>\n",
       "      <td>Smelt</td>\n",
       "      <td>12.2</td>\n",
       "      <td>11.5</td>\n",
       "      <td>12.2</td>\n",
       "      <td>13.4</td>\n",
       "      <td>2.0904</td>\n",
       "      <td>1.3936</td>\n",
       "      <td>False</td>\n",
       "      <td>False</td>\n",
       "      <td>False</td>\n",
       "      <td>False</td>\n",
       "      <td>False</td>\n",
       "      <td>True</td>\n",
       "      <td>False</td>\n",
       "    </tr>\n",
       "    <tr>\n",
       "      <th>155</th>\n",
       "      <td>Smelt</td>\n",
       "      <td>13.4</td>\n",
       "      <td>11.7</td>\n",
       "      <td>12.4</td>\n",
       "      <td>13.5</td>\n",
       "      <td>2.4300</td>\n",
       "      <td>1.2690</td>\n",
       "      <td>False</td>\n",
       "      <td>False</td>\n",
       "      <td>False</td>\n",
       "      <td>False</td>\n",
       "      <td>False</td>\n",
       "      <td>True</td>\n",
       "      <td>False</td>\n",
       "    </tr>\n",
       "    <tr>\n",
       "      <th>156</th>\n",
       "      <td>Smelt</td>\n",
       "      <td>12.2</td>\n",
       "      <td>12.1</td>\n",
       "      <td>13.0</td>\n",
       "      <td>13.8</td>\n",
       "      <td>2.2770</td>\n",
       "      <td>1.2558</td>\n",
       "      <td>False</td>\n",
       "      <td>False</td>\n",
       "      <td>False</td>\n",
       "      <td>False</td>\n",
       "      <td>False</td>\n",
       "      <td>True</td>\n",
       "      <td>False</td>\n",
       "    </tr>\n",
       "    <tr>\n",
       "      <th>157</th>\n",
       "      <td>Smelt</td>\n",
       "      <td>19.7</td>\n",
       "      <td>13.2</td>\n",
       "      <td>14.3</td>\n",
       "      <td>15.2</td>\n",
       "      <td>2.8728</td>\n",
       "      <td>2.0672</td>\n",
       "      <td>False</td>\n",
       "      <td>False</td>\n",
       "      <td>False</td>\n",
       "      <td>False</td>\n",
       "      <td>False</td>\n",
       "      <td>True</td>\n",
       "      <td>False</td>\n",
       "    </tr>\n",
       "    <tr>\n",
       "      <th>158</th>\n",
       "      <td>Smelt</td>\n",
       "      <td>19.9</td>\n",
       "      <td>13.8</td>\n",
       "      <td>15.0</td>\n",
       "      <td>16.2</td>\n",
       "      <td>2.9322</td>\n",
       "      <td>1.8792</td>\n",
       "      <td>False</td>\n",
       "      <td>False</td>\n",
       "      <td>False</td>\n",
       "      <td>False</td>\n",
       "      <td>False</td>\n",
       "      <td>True</td>\n",
       "      <td>False</td>\n",
       "    </tr>\n",
       "  </tbody>\n",
       "</table>\n",
       "<p>159 rows × 14 columns</p>\n",
       "</div>"
      ],
      "text/plain": [
       "    Species  Weight  Length1  Length2  Length3   Height   Width  Bream  \\\n",
       "0     Bream   242.0     23.2     25.4     30.0  11.5200  4.0200   True   \n",
       "1     Bream   290.0     24.0     26.3     31.2  12.4800  4.3056   True   \n",
       "2     Bream   340.0     23.9     26.5     31.1  12.3778  4.6961   True   \n",
       "3     Bream   363.0     26.3     29.0     33.5  12.7300  4.4555   True   \n",
       "4     Bream   430.0     26.5     29.0     34.0  12.4440  5.1340   True   \n",
       "..      ...     ...      ...      ...      ...      ...     ...    ...   \n",
       "154   Smelt    12.2     11.5     12.2     13.4   2.0904  1.3936  False   \n",
       "155   Smelt    13.4     11.7     12.4     13.5   2.4300  1.2690  False   \n",
       "156   Smelt    12.2     12.1     13.0     13.8   2.2770  1.2558  False   \n",
       "157   Smelt    19.7     13.2     14.3     15.2   2.8728  2.0672  False   \n",
       "158   Smelt    19.9     13.8     15.0     16.2   2.9322  1.8792  False   \n",
       "\n",
       "     Parkki  Perch   Pike  Roach  Smelt  Whitefish  \n",
       "0     False  False  False  False  False      False  \n",
       "1     False  False  False  False  False      False  \n",
       "2     False  False  False  False  False      False  \n",
       "3     False  False  False  False  False      False  \n",
       "4     False  False  False  False  False      False  \n",
       "..      ...    ...    ...    ...    ...        ...  \n",
       "154   False  False  False  False   True      False  \n",
       "155   False  False  False  False   True      False  \n",
       "156   False  False  False  False   True      False  \n",
       "157   False  False  False  False   True      False  \n",
       "158   False  False  False  False   True      False  \n",
       "\n",
       "[159 rows x 14 columns]"
      ]
     },
     "execution_count": 74,
     "metadata": {},
     "output_type": "execute_result"
    }
   ],
   "source": [
    "df"
   ]
  },
  {
   "cell_type": "code",
   "execution_count": 75,
   "id": "bb790e0e-142b-4a81-bbdf-f9adccdd4487",
   "metadata": {},
   "outputs": [],
   "source": [
    "df.drop(['Species'],inplace=True,axis=1)"
   ]
  },
  {
   "cell_type": "code",
   "execution_count": 76,
   "id": "93df15ab-7e1b-4b8c-a7e9-83d7c513cb6a",
   "metadata": {},
   "outputs": [
    {
     "data": {
      "text/html": [
       "<div>\n",
       "<style scoped>\n",
       "    .dataframe tbody tr th:only-of-type {\n",
       "        vertical-align: middle;\n",
       "    }\n",
       "\n",
       "    .dataframe tbody tr th {\n",
       "        vertical-align: top;\n",
       "    }\n",
       "\n",
       "    .dataframe thead th {\n",
       "        text-align: right;\n",
       "    }\n",
       "</style>\n",
       "<table border=\"1\" class=\"dataframe\">\n",
       "  <thead>\n",
       "    <tr style=\"text-align: right;\">\n",
       "      <th></th>\n",
       "      <th>Weight</th>\n",
       "      <th>Length1</th>\n",
       "      <th>Length2</th>\n",
       "      <th>Length3</th>\n",
       "      <th>Height</th>\n",
       "      <th>Width</th>\n",
       "      <th>Bream</th>\n",
       "      <th>Parkki</th>\n",
       "      <th>Perch</th>\n",
       "      <th>Pike</th>\n",
       "      <th>Roach</th>\n",
       "      <th>Smelt</th>\n",
       "      <th>Whitefish</th>\n",
       "    </tr>\n",
       "  </thead>\n",
       "  <tbody>\n",
       "    <tr>\n",
       "      <th>Weight</th>\n",
       "      <td>1.000000</td>\n",
       "      <td>0.895156</td>\n",
       "      <td>0.899167</td>\n",
       "      <td>0.843011</td>\n",
       "      <td>0.799031</td>\n",
       "      <td>0.898463</td>\n",
       "      <td>0.411386</td>\n",
       "      <td>-0.188597</td>\n",
       "      <td>0.020898</td>\n",
       "      <td>0.121877</td>\n",
       "      <td>-0.265733</td>\n",
       "      <td>-0.356285</td>\n",
       "      <td>0.098894</td>\n",
       "    </tr>\n",
       "    <tr>\n",
       "      <th>Length1</th>\n",
       "      <td>0.895156</td>\n",
       "      <td>1.000000</td>\n",
       "      <td>0.999418</td>\n",
       "      <td>0.932271</td>\n",
       "      <td>0.675585</td>\n",
       "      <td>0.872316</td>\n",
       "      <td>0.274864</td>\n",
       "      <td>-0.209513</td>\n",
       "      <td>0.007251</td>\n",
       "      <td>0.431045</td>\n",
       "      <td>-0.210723</td>\n",
       "      <td>-0.496577</td>\n",
       "      <td>0.069339</td>\n",
       "    </tr>\n",
       "    <tr>\n",
       "      <th>Length2</th>\n",
       "      <td>0.899167</td>\n",
       "      <td>0.999418</td>\n",
       "      <td>1.000000</td>\n",
       "      <td>0.934579</td>\n",
       "      <td>0.691202</td>\n",
       "      <td>0.878628</td>\n",
       "      <td>0.292935</td>\n",
       "      <td>-0.209550</td>\n",
       "      <td>0.008808</td>\n",
       "      <td>0.419917</td>\n",
       "      <td>-0.215863</td>\n",
       "      <td>-0.509558</td>\n",
       "      <td>0.072489</td>\n",
       "    </tr>\n",
       "    <tr>\n",
       "      <th>Length3</th>\n",
       "      <td>0.843011</td>\n",
       "      <td>0.932271</td>\n",
       "      <td>0.934579</td>\n",
       "      <td>1.000000</td>\n",
       "      <td>0.717631</td>\n",
       "      <td>0.868443</td>\n",
       "      <td>0.349647</td>\n",
       "      <td>-0.199465</td>\n",
       "      <td>-0.093027</td>\n",
       "      <td>0.477756</td>\n",
       "      <td>-0.203718</td>\n",
       "      <td>-0.498022</td>\n",
       "      <td>0.058928</td>\n",
       "    </tr>\n",
       "    <tr>\n",
       "      <th>Height</th>\n",
       "      <td>0.799031</td>\n",
       "      <td>0.675585</td>\n",
       "      <td>0.691202</td>\n",
       "      <td>0.717631</td>\n",
       "      <td>1.000000</td>\n",
       "      <td>0.792881</td>\n",
       "      <td>0.772443</td>\n",
       "      <td>-0.000547</td>\n",
       "      <td>-0.191405</td>\n",
       "      <td>-0.101810</td>\n",
       "      <td>-0.202076</td>\n",
       "      <td>-0.491731</td>\n",
       "      <td>0.048951</td>\n",
       "    </tr>\n",
       "    <tr>\n",
       "      <th>Width</th>\n",
       "      <td>0.898463</td>\n",
       "      <td>0.872316</td>\n",
       "      <td>0.878628</td>\n",
       "      <td>0.868443</td>\n",
       "      <td>0.792881</td>\n",
       "      <td>1.000000</td>\n",
       "      <td>0.319347</td>\n",
       "      <td>-0.194147</td>\n",
       "      <td>0.144021</td>\n",
       "      <td>0.137722</td>\n",
       "      <td>-0.171465</td>\n",
       "      <td>-0.569018</td>\n",
       "      <td>0.124388</td>\n",
       "    </tr>\n",
       "    <tr>\n",
       "      <th>Bream</th>\n",
       "      <td>0.411386</td>\n",
       "      <td>0.274864</td>\n",
       "      <td>0.292935</td>\n",
       "      <td>0.349647</td>\n",
       "      <td>0.772443</td>\n",
       "      <td>0.319347</td>\n",
       "      <td>1.000000</td>\n",
       "      <td>-0.144840</td>\n",
       "      <td>-0.391741</td>\n",
       "      <td>-0.183825</td>\n",
       "      <td>-0.201526</td>\n",
       "      <td>-0.165083</td>\n",
       "      <td>-0.105209</td>\n",
       "    </tr>\n",
       "    <tr>\n",
       "      <th>Parkki</th>\n",
       "      <td>-0.188597</td>\n",
       "      <td>-0.209513</td>\n",
       "      <td>-0.209550</td>\n",
       "      <td>-0.199465</td>\n",
       "      <td>-0.000547</td>\n",
       "      <td>-0.194147</td>\n",
       "      <td>-0.144840</td>\n",
       "      <td>1.000000</td>\n",
       "      <td>-0.201021</td>\n",
       "      <td>-0.094329</td>\n",
       "      <td>-0.103413</td>\n",
       "      <td>-0.084712</td>\n",
       "      <td>-0.053988</td>\n",
       "    </tr>\n",
       "    <tr>\n",
       "      <th>Perch</th>\n",
       "      <td>0.020898</td>\n",
       "      <td>0.007251</td>\n",
       "      <td>0.008808</td>\n",
       "      <td>-0.093027</td>\n",
       "      <td>-0.191405</td>\n",
       "      <td>0.144021</td>\n",
       "      <td>-0.391741</td>\n",
       "      <td>-0.201021</td>\n",
       "      <td>1.000000</td>\n",
       "      <td>-0.255127</td>\n",
       "      <td>-0.279694</td>\n",
       "      <td>-0.229116</td>\n",
       "      <td>-0.146018</td>\n",
       "    </tr>\n",
       "    <tr>\n",
       "      <th>Pike</th>\n",
       "      <td>0.121877</td>\n",
       "      <td>0.431045</td>\n",
       "      <td>0.419917</td>\n",
       "      <td>0.477756</td>\n",
       "      <td>-0.101810</td>\n",
       "      <td>0.137722</td>\n",
       "      <td>-0.183825</td>\n",
       "      <td>-0.094329</td>\n",
       "      <td>-0.255127</td>\n",
       "      <td>1.000000</td>\n",
       "      <td>-0.131247</td>\n",
       "      <td>-0.107513</td>\n",
       "      <td>-0.068519</td>\n",
       "    </tr>\n",
       "    <tr>\n",
       "      <th>Roach</th>\n",
       "      <td>-0.265733</td>\n",
       "      <td>-0.210723</td>\n",
       "      <td>-0.215863</td>\n",
       "      <td>-0.203718</td>\n",
       "      <td>-0.202076</td>\n",
       "      <td>-0.171465</td>\n",
       "      <td>-0.201526</td>\n",
       "      <td>-0.103413</td>\n",
       "      <td>-0.279694</td>\n",
       "      <td>-0.131247</td>\n",
       "      <td>1.000000</td>\n",
       "      <td>-0.117866</td>\n",
       "      <td>-0.075117</td>\n",
       "    </tr>\n",
       "    <tr>\n",
       "      <th>Smelt</th>\n",
       "      <td>-0.356285</td>\n",
       "      <td>-0.496577</td>\n",
       "      <td>-0.509558</td>\n",
       "      <td>-0.498022</td>\n",
       "      <td>-0.491731</td>\n",
       "      <td>-0.569018</td>\n",
       "      <td>-0.165083</td>\n",
       "      <td>-0.084712</td>\n",
       "      <td>-0.229116</td>\n",
       "      <td>-0.107513</td>\n",
       "      <td>-0.117866</td>\n",
       "      <td>1.000000</td>\n",
       "      <td>-0.061533</td>\n",
       "    </tr>\n",
       "    <tr>\n",
       "      <th>Whitefish</th>\n",
       "      <td>0.098894</td>\n",
       "      <td>0.069339</td>\n",
       "      <td>0.072489</td>\n",
       "      <td>0.058928</td>\n",
       "      <td>0.048951</td>\n",
       "      <td>0.124388</td>\n",
       "      <td>-0.105209</td>\n",
       "      <td>-0.053988</td>\n",
       "      <td>-0.146018</td>\n",
       "      <td>-0.068519</td>\n",
       "      <td>-0.075117</td>\n",
       "      <td>-0.061533</td>\n",
       "      <td>1.000000</td>\n",
       "    </tr>\n",
       "  </tbody>\n",
       "</table>\n",
       "</div>"
      ],
      "text/plain": [
       "             Weight   Length1   Length2   Length3    Height     Width  \\\n",
       "Weight     1.000000  0.895156  0.899167  0.843011  0.799031  0.898463   \n",
       "Length1    0.895156  1.000000  0.999418  0.932271  0.675585  0.872316   \n",
       "Length2    0.899167  0.999418  1.000000  0.934579  0.691202  0.878628   \n",
       "Length3    0.843011  0.932271  0.934579  1.000000  0.717631  0.868443   \n",
       "Height     0.799031  0.675585  0.691202  0.717631  1.000000  0.792881   \n",
       "Width      0.898463  0.872316  0.878628  0.868443  0.792881  1.000000   \n",
       "Bream      0.411386  0.274864  0.292935  0.349647  0.772443  0.319347   \n",
       "Parkki    -0.188597 -0.209513 -0.209550 -0.199465 -0.000547 -0.194147   \n",
       "Perch      0.020898  0.007251  0.008808 -0.093027 -0.191405  0.144021   \n",
       "Pike       0.121877  0.431045  0.419917  0.477756 -0.101810  0.137722   \n",
       "Roach     -0.265733 -0.210723 -0.215863 -0.203718 -0.202076 -0.171465   \n",
       "Smelt     -0.356285 -0.496577 -0.509558 -0.498022 -0.491731 -0.569018   \n",
       "Whitefish  0.098894  0.069339  0.072489  0.058928  0.048951  0.124388   \n",
       "\n",
       "              Bream    Parkki     Perch      Pike     Roach     Smelt  \\\n",
       "Weight     0.411386 -0.188597  0.020898  0.121877 -0.265733 -0.356285   \n",
       "Length1    0.274864 -0.209513  0.007251  0.431045 -0.210723 -0.496577   \n",
       "Length2    0.292935 -0.209550  0.008808  0.419917 -0.215863 -0.509558   \n",
       "Length3    0.349647 -0.199465 -0.093027  0.477756 -0.203718 -0.498022   \n",
       "Height     0.772443 -0.000547 -0.191405 -0.101810 -0.202076 -0.491731   \n",
       "Width      0.319347 -0.194147  0.144021  0.137722 -0.171465 -0.569018   \n",
       "Bream      1.000000 -0.144840 -0.391741 -0.183825 -0.201526 -0.165083   \n",
       "Parkki    -0.144840  1.000000 -0.201021 -0.094329 -0.103413 -0.084712   \n",
       "Perch     -0.391741 -0.201021  1.000000 -0.255127 -0.279694 -0.229116   \n",
       "Pike      -0.183825 -0.094329 -0.255127  1.000000 -0.131247 -0.107513   \n",
       "Roach     -0.201526 -0.103413 -0.279694 -0.131247  1.000000 -0.117866   \n",
       "Smelt     -0.165083 -0.084712 -0.229116 -0.107513 -0.117866  1.000000   \n",
       "Whitefish -0.105209 -0.053988 -0.146018 -0.068519 -0.075117 -0.061533   \n",
       "\n",
       "           Whitefish  \n",
       "Weight      0.098894  \n",
       "Length1     0.069339  \n",
       "Length2     0.072489  \n",
       "Length3     0.058928  \n",
       "Height      0.048951  \n",
       "Width       0.124388  \n",
       "Bream      -0.105209  \n",
       "Parkki     -0.053988  \n",
       "Perch      -0.146018  \n",
       "Pike       -0.068519  \n",
       "Roach      -0.075117  \n",
       "Smelt      -0.061533  \n",
       "Whitefish   1.000000  "
      ]
     },
     "execution_count": 76,
     "metadata": {},
     "output_type": "execute_result"
    }
   ],
   "source": [
    "df.corr()"
   ]
  },
  {
   "cell_type": "code",
   "execution_count": 77,
   "id": "34e422a0-4aa6-47db-b1c5-6b70dd014314",
   "metadata": {},
   "outputs": [],
   "source": [
    "x=df[['Length1','Length2','Length3','Height','Width']]\n",
    "y=df['Weight']"
   ]
  },
  {
   "cell_type": "code",
   "execution_count": 78,
   "id": "5ee136c2-1281-4672-89da-87e5e983587b",
   "metadata": {},
   "outputs": [],
   "source": [
    "from sklearn.linear_model import LinearRegression"
   ]
  },
  {
   "cell_type": "code",
   "execution_count": 79,
   "id": "3b1538c4-1707-4353-b1c9-63ebcca5b7c8",
   "metadata": {},
   "outputs": [],
   "source": [
    "from sklearn.model_selection import train_test_split"
   ]
  },
  {
   "cell_type": "code",
   "execution_count": 80,
   "id": "f2e2b836-eb2f-45d0-a753-dd97d23aa862",
   "metadata": {},
   "outputs": [],
   "source": [
    "x_train,x_test,y_train,y_test=train_test_split(x,y, test_size=0.2,random_state=20)"
   ]
  },
  {
   "cell_type": "code",
   "execution_count": 81,
   "id": "a0edea0b-4550-40ac-9bb1-8cced81633ab",
   "metadata": {},
   "outputs": [],
   "source": [
    "model = LinearRegression()"
   ]
  },
  {
   "cell_type": "code",
   "execution_count": 82,
   "id": "8823d927-142b-410a-a405-c586ccb373db",
   "metadata": {},
   "outputs": [
    {
     "data": {
      "text/html": [
       "<style>#sk-container-id-2 {color: black;}#sk-container-id-2 pre{padding: 0;}#sk-container-id-2 div.sk-toggleable {background-color: white;}#sk-container-id-2 label.sk-toggleable__label {cursor: pointer;display: block;width: 100%;margin-bottom: 0;padding: 0.3em;box-sizing: border-box;text-align: center;}#sk-container-id-2 label.sk-toggleable__label-arrow:before {content: \"▸\";float: left;margin-right: 0.25em;color: #696969;}#sk-container-id-2 label.sk-toggleable__label-arrow:hover:before {color: black;}#sk-container-id-2 div.sk-estimator:hover label.sk-toggleable__label-arrow:before {color: black;}#sk-container-id-2 div.sk-toggleable__content {max-height: 0;max-width: 0;overflow: hidden;text-align: left;background-color: #f0f8ff;}#sk-container-id-2 div.sk-toggleable__content pre {margin: 0.2em;color: black;border-radius: 0.25em;background-color: #f0f8ff;}#sk-container-id-2 input.sk-toggleable__control:checked~div.sk-toggleable__content {max-height: 200px;max-width: 100%;overflow: auto;}#sk-container-id-2 input.sk-toggleable__control:checked~label.sk-toggleable__label-arrow:before {content: \"▾\";}#sk-container-id-2 div.sk-estimator input.sk-toggleable__control:checked~label.sk-toggleable__label {background-color: #d4ebff;}#sk-container-id-2 div.sk-label input.sk-toggleable__control:checked~label.sk-toggleable__label {background-color: #d4ebff;}#sk-container-id-2 input.sk-hidden--visually {border: 0;clip: rect(1px 1px 1px 1px);clip: rect(1px, 1px, 1px, 1px);height: 1px;margin: -1px;overflow: hidden;padding: 0;position: absolute;width: 1px;}#sk-container-id-2 div.sk-estimator {font-family: monospace;background-color: #f0f8ff;border: 1px dotted black;border-radius: 0.25em;box-sizing: border-box;margin-bottom: 0.5em;}#sk-container-id-2 div.sk-estimator:hover {background-color: #d4ebff;}#sk-container-id-2 div.sk-parallel-item::after {content: \"\";width: 100%;border-bottom: 1px solid gray;flex-grow: 1;}#sk-container-id-2 div.sk-label:hover label.sk-toggleable__label {background-color: #d4ebff;}#sk-container-id-2 div.sk-serial::before {content: \"\";position: absolute;border-left: 1px solid gray;box-sizing: border-box;top: 0;bottom: 0;left: 50%;z-index: 0;}#sk-container-id-2 div.sk-serial {display: flex;flex-direction: column;align-items: center;background-color: white;padding-right: 0.2em;padding-left: 0.2em;position: relative;}#sk-container-id-2 div.sk-item {position: relative;z-index: 1;}#sk-container-id-2 div.sk-parallel {display: flex;align-items: stretch;justify-content: center;background-color: white;position: relative;}#sk-container-id-2 div.sk-item::before, #sk-container-id-2 div.sk-parallel-item::before {content: \"\";position: absolute;border-left: 1px solid gray;box-sizing: border-box;top: 0;bottom: 0;left: 50%;z-index: -1;}#sk-container-id-2 div.sk-parallel-item {display: flex;flex-direction: column;z-index: 1;position: relative;background-color: white;}#sk-container-id-2 div.sk-parallel-item:first-child::after {align-self: flex-end;width: 50%;}#sk-container-id-2 div.sk-parallel-item:last-child::after {align-self: flex-start;width: 50%;}#sk-container-id-2 div.sk-parallel-item:only-child::after {width: 0;}#sk-container-id-2 div.sk-dashed-wrapped {border: 1px dashed gray;margin: 0 0.4em 0.5em 0.4em;box-sizing: border-box;padding-bottom: 0.4em;background-color: white;}#sk-container-id-2 div.sk-label label {font-family: monospace;font-weight: bold;display: inline-block;line-height: 1.2em;}#sk-container-id-2 div.sk-label-container {text-align: center;}#sk-container-id-2 div.sk-container {/* jupyter's `normalize.less` sets `[hidden] { display: none; }` but bootstrap.min.css set `[hidden] { display: none !important; }` so we also need the `!important` here to be able to override the default hidden behavior on the sphinx rendered scikit-learn.org. See: https://github.com/scikit-learn/scikit-learn/issues/21755 */display: inline-block !important;position: relative;}#sk-container-id-2 div.sk-text-repr-fallback {display: none;}</style><div id=\"sk-container-id-2\" class=\"sk-top-container\"><div class=\"sk-text-repr-fallback\"><pre>LinearRegression()</pre><b>In a Jupyter environment, please rerun this cell to show the HTML representation or trust the notebook. <br />On GitHub, the HTML representation is unable to render, please try loading this page with nbviewer.org.</b></div><div class=\"sk-container\" hidden><div class=\"sk-item\"><div class=\"sk-estimator sk-toggleable\"><input class=\"sk-toggleable__control sk-hidden--visually\" id=\"sk-estimator-id-2\" type=\"checkbox\" checked><label for=\"sk-estimator-id-2\" class=\"sk-toggleable__label sk-toggleable__label-arrow\">LinearRegression</label><div class=\"sk-toggleable__content\"><pre>LinearRegression()</pre></div></div></div></div></div>"
      ],
      "text/plain": [
       "LinearRegression()"
      ]
     },
     "execution_count": 82,
     "metadata": {},
     "output_type": "execute_result"
    }
   ],
   "source": [
    "model.fit(x_train,y_train)"
   ]
  },
  {
   "cell_type": "code",
   "execution_count": 83,
   "id": "743152df-b736-4ea0-8ea8-20a7202ab517",
   "metadata": {},
   "outputs": [],
   "source": [
    "yp=model.predict(x_train)\n",
    "ypd=model.predict(x_test)"
   ]
  },
  {
   "cell_type": "code",
   "execution_count": 84,
   "id": "5df9c95e-3bdc-4777-b62d-b8b2a4678b0a",
   "metadata": {},
   "outputs": [],
   "source": [
    "from sklearn.metrics import r2_score"
   ]
  },
  {
   "cell_type": "code",
   "execution_count": 85,
   "id": "07bf0fa2-3a3e-4a70-9874-6dafce2a5caf",
   "metadata": {},
   "outputs": [
    {
     "name": "stdout",
     "output_type": "stream",
     "text": [
      "R^2_test = 0.8921443202627148\n",
      "R^2_train = 0.8953887611178146\n"
     ]
    }
   ],
   "source": [
    "x = r2_score(y_train,yp)\n",
    "X= r2_score(y_test,ypd)\n",
    "print(\"R^2_test =\",x)\n",
    "print(\"R^2_train =\",X)"
   ]
  },
  {
   "cell_type": "code",
   "execution_count": null,
   "id": "b8400134-81f7-4690-a076-b6e0fb205147",
   "metadata": {},
   "outputs": [],
   "source": []
  },
  {
   "cell_type": "code",
   "execution_count": null,
   "id": "edb0fe70-7e31-4fed-9ce5-efd416315a62",
   "metadata": {},
   "outputs": [],
   "source": []
  }
 ],
 "metadata": {
  "kernelspec": {
   "display_name": "Python 3 (ipykernel)",
   "language": "python",
   "name": "python3"
  },
  "language_info": {
   "codemirror_mode": {
    "name": "ipython",
    "version": 3
   },
   "file_extension": ".py",
   "mimetype": "text/x-python",
   "name": "python",
   "nbconvert_exporter": "python",
   "pygments_lexer": "ipython3",
   "version": "3.11.5"
  }
 },
 "nbformat": 4,
 "nbformat_minor": 5
}
